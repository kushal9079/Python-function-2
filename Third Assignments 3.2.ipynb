{
 "cells": [
  {
   "cell_type": "markdown",
   "id": "cd200dba-555e-4727-9088-f242bff1d1a0",
   "metadata": {},
   "source": [
    "# Question :- 1"
   ]
  },
  {
   "cell_type": "code",
   "execution_count": 3,
   "id": "83451ac7-6e3a-4adc-9c5d-a2b3ef7dddb3",
   "metadata": {},
   "outputs": [
    {
     "name": "stdout",
     "output_type": "stream",
     "text": [
      "Sorted List of Tuples based on Integer Value:\n",
      "('Virat Kohli', 24936)\n",
      "('Jack Kallis', 25534)\n",
      "('Ricky Ponting', 27483)\n",
      "('Sachin Tendulkar', 34357)\n"
     ]
    }
   ],
   "source": [
    "# List of tuples\n",
    "player_stats = [('Sachin Tendulkar', 34357),\n",
    "                ('Ricky Ponting', 27483),\n",
    "                ('Jack Kallis', 25534),\n",
    "                ('Virat Kohli', 24936)]\n",
    "\n",
    "# Sorting the list of tuples based on the second element (integer value)\n",
    "sorted_players = sorted(player_stats, key=lambda x: x[1])\n",
    "\n",
    "# Printing the sorted list\n",
    "print(\"Sorted List of Tuples based on Integer Value:\")\n",
    "for player in sorted_players:\n",
    "    print(player)\n"
   ]
  },
  {
   "cell_type": "markdown",
   "id": "eb920c8e-1abd-4104-aa83-e90e52994c17",
   "metadata": {},
   "source": [
    "# Quesetion :- 2"
   ]
  },
  {
   "cell_type": "code",
   "execution_count": 4,
   "id": "336cabf7-6c98-4e81-9ae0-b63979e3a693",
   "metadata": {},
   "outputs": [
    {
     "name": "stdout",
     "output_type": "stream",
     "text": [
      "Original list: [1, 2, 3, 4, 5, 6, 7, 8, 9, 10]\n",
      "Squares of the numbers: [1, 4, 9, 16, 25, 36, 49, 64, 81, 100]\n"
     ]
    }
   ],
   "source": [
    "# Define the list of integers\n",
    "numbers = [1, 2, 3, 4, 5, 6, 7, 8, 9, 10]\n",
    "\n",
    "# Use lambda and map to find squares\n",
    "squares = list(map(lambda x: x**2, numbers))\n",
    "\n",
    "# Print the result\n",
    "print(\"Original list:\", numbers)\n",
    "print(\"Squares of the numbers:\", squares)\n"
   ]
  },
  {
   "cell_type": "markdown",
   "id": "991e75f5-a279-4675-ad3b-d82d0c5eda67",
   "metadata": {},
   "source": [
    "# Question :- 3"
   ]
  },
  {
   "cell_type": "code",
   "execution_count": 5,
   "id": "ffb638fc-9cee-41f4-a3db-f20c7186a530",
   "metadata": {},
   "outputs": [
    {
     "name": "stdout",
     "output_type": "stream",
     "text": [
      "Given list of integers: [1, 2, 3, 4, 5, 6, 7, 8, 9, 10]\n",
      "Converted tuple of strings: ('1', '2', '3', '4', '5', '6', '7', '8', '9', '10')\n"
     ]
    }
   ],
   "source": [
    "# Given list of integers\n",
    "numbers = [1, 2, 3, 4, 5, 6, 7, 8, 9, 10]\n",
    "\n",
    "# Use lambda and map to convert integers to strings\n",
    "string_tuple = tuple(map(lambda x: str(x), numbers))\n",
    "\n",
    "# Print the result\n",
    "print(\"Given list of integers:\", numbers)\n",
    "print(\"Converted tuple of strings:\", string_tuple)\n"
   ]
  },
  {
   "cell_type": "markdown",
   "id": "8fdd0705-0592-412a-a5f5-b30e6ba7d0bb",
   "metadata": {},
   "source": [
    "# Question :- 4"
   ]
  },
  {
   "cell_type": "code",
   "execution_count": 6,
   "id": "81ab7273-3b10-42cd-bcda-fb50b2cdae71",
   "metadata": {},
   "outputs": [
    {
     "name": "stdout",
     "output_type": "stream",
     "text": [
      "List of numbers: [1, 2, 3, 4, 5, 6, 7, 8, 9, 10, 11, 12, 13, 14, 15, 16, 17, 18, 19, 20, 21, 22, 23, 24, 25]\n",
      "Product of the numbers: 15511210043330985984000000\n"
     ]
    }
   ],
   "source": [
    "from functools import reduce\n",
    "\n",
    "# Generate a list of numbers from 1 to 25\n",
    "numbers = list(range(1, 26))\n",
    "\n",
    "# Define the product function for reduce\n",
    "def multiply(x, y):\n",
    "    return x * y\n",
    "\n",
    "# Use reduce to compute the product\n",
    "product = reduce(multiply, numbers)\n",
    "\n",
    "# Print the result\n",
    "print(\"List of numbers:\", numbers)\n",
    "print(\"Product of the numbers:\", product)\n"
   ]
  },
  {
   "cell_type": "markdown",
   "id": "2041dbfb-f2a5-42ef-b87d-3be1e34695aa",
   "metadata": {},
   "source": [
    "# Question :- 5"
   ]
  },
  {
   "cell_type": "code",
   "execution_count": 7,
   "id": "12a1e1df-0ec4-4421-aa8e-c06b787c5883",
   "metadata": {},
   "outputs": [
    {
     "name": "stdout",
     "output_type": "stream",
     "text": [
      "Original list of numbers: [2, 3, 6, 9, 27, 60, 90, 120, 55, 46]\n",
      "Filtered numbers divisible by 2 and 3: [6, 60, 90, 120]\n"
     ]
    }
   ],
   "source": [
    "# Given list of numbers\n",
    "numbers = [2, 3, 6, 9, 27, 60, 90, 120, 55, 46]\n",
    "\n",
    "# Use filter and lambda to filter numbers divisible by 2 and 3\n",
    "filtered_numbers = list(filter(lambda x: x % 2 == 0 and x % 3 == 0, numbers))\n",
    "\n",
    "# Print the result\n",
    "print(\"Original list of numbers:\", numbers)\n",
    "print(\"Filtered numbers divisible by 2 and 3:\", filtered_numbers)\n",
    "\n"
   ]
  },
  {
   "cell_type": "markdown",
   "id": "2cd43aa4-8190-432c-a1cc-16287fc45cae",
   "metadata": {},
   "source": [
    "# Question :- 6"
   ]
  },
  {
   "cell_type": "code",
   "execution_count": 8,
   "id": "e05492f6-c619-437a-9f8f-45963a498463",
   "metadata": {},
   "outputs": [
    {
     "name": "stdout",
     "output_type": "stream",
     "text": [
      "Original list of strings: ['python', 'php', 'aba', 'radar', 'level']\n",
      "Palindromes in the list: ['php', 'aba', 'radar', 'level']\n"
     ]
    }
   ],
   "source": [
    "# Given list of strings\n",
    "strings = ['python', 'php', 'aba', 'radar', 'level']\n",
    "\n",
    "# Use filter and lambda to find palindromes\n",
    "palindromes = list(filter(lambda x: x == x[::-1], strings))\n",
    "\n",
    "# Print the result\n",
    "print(\"Original list of strings:\", strings)\n",
    "print(\"Palindromes in the list:\", palindromes)\n"
   ]
  }
 ],
 "metadata": {
  "kernelspec": {
   "display_name": "Python 3 (ipykernel)",
   "language": "python",
   "name": "python3"
  },
  "language_info": {
   "codemirror_mode": {
    "name": "ipython",
    "version": 3
   },
   "file_extension": ".py",
   "mimetype": "text/x-python",
   "name": "python",
   "nbconvert_exporter": "python",
   "pygments_lexer": "ipython3",
   "version": "3.10.8"
  }
 },
 "nbformat": 4,
 "nbformat_minor": 5
}
